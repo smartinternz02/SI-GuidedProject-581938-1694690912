{
  "nbformat": 4,
  "nbformat_minor": 0,
  "metadata": {
    "colab": {
      "provenance": []
    },
    "kernelspec": {
      "name": "python3",
      "display_name": "Python 3"
    },
    "language_info": {
      "name": "python"
    }
  },
  "cells": [
    {
      "cell_type": "code",
      "execution_count": null,
      "metadata": {
        "id": "0nfj70xvRNOV"
      },
      "outputs": [],
      "source": [
        "import pandas as pd\n",
        "import numpy as np\n",
        "\n",
        "# Task 1: Create a pandas DataFrame with numpy random values\n",
        "data = np.random.rand(4, 4)\n",
        "df = pd.DataFrame(data, columns=['Random value 1', 'Random value 2', 'Random value 3', 'Random value 4'])"
      ]
    },
    {
      "cell_type": "code",
      "source": [
        "# Task 2: Rename the columns\n",
        "df.columns = ['Random value 1', 'Random value 2', 'Random value 3', 'Random value 4']\n"
      ],
      "metadata": {
        "id": "zma1np3CSljZ"
      },
      "execution_count": null,
      "outputs": []
    },
    {
      "cell_type": "code",
      "source": [
        "# Task 3: Descriptive statistics\n",
        "statistics = df.describe()"
      ],
      "metadata": {
        "id": "OXfrK-vxSsDh"
      },
      "execution_count": null,
      "outputs": []
    },
    {
      "cell_type": "code",
      "source": [
        "# Task 4: Check for null values and data types\n",
        "null_values = df.isnull().sum()\n",
        "data_types = df.dtypes"
      ],
      "metadata": {
        "id": "5FCGPKHISxTZ"
      },
      "execution_count": null,
      "outputs": []
    },
    {
      "cell_type": "code",
      "source": [
        "# Task 5: Display columns using location and index location methods\n",
        "random_value_2_loc = df.iloc[:, 1]  # Using location method\n",
        "random_value_3_loc = df.iloc[:, 2]  # Using location method\n",
        "\n",
        "random_value_2_idx = df['Random value 2']  # Using index location method\n",
        "random_value_3_idx = df['Random value 3']  # Using index location method\n"
      ],
      "metadata": {
        "id": "bmnQ7ZmJS3pL"
      },
      "execution_count": null,
      "outputs": []
    },
    {
      "cell_type": "code",
      "source": [
        "# Print the results\n",
        "print(\"DataFrame:\")\n",
        "print(df)\n",
        "\n",
        "print(\"\\nDescriptive Statistics:\")\n",
        "print(statistics)\n",
        "\n",
        "print(\"\\nNull Values:\")\n",
        "print(null_values)\n",
        "\n",
        "print(\"\\nData Types:\")\n",
        "print(data_types)\n",
        "\n",
        "print(\"\\nRandom value 2 using location method:\")\n",
        "print(random_value_2_loc)\n",
        "\n",
        "print(\"\\nRandom value 3 using location method:\")\n",
        "print(random_value_3_loc)\n",
        "\n",
        "print(\"\\nRandom value 2 using index location method:\")\n",
        "print(random_value_2_idx)\n",
        "\n",
        "print(\"\\nRandom value 3 using index location method:\")\n",
        "print(random_value_3_idx)"
      ],
      "metadata": {
        "id": "Q3GMKvEAS5AA",
        "outputId": "e5221594-c6df-494b-a221-d0dc9ce984a9",
        "colab": {
          "base_uri": "https://localhost:8080/"
        }
      },
      "execution_count": null,
      "outputs": [
        {
          "output_type": "stream",
          "name": "stdout",
          "text": [
            "DataFrame:\n",
            "   Random value 1  Random value 2  Random value 3  Random value 4\n",
            "0        0.851916        0.135243        0.659237        0.583374\n",
            "1        0.955112        0.589603        0.719205        0.252746\n",
            "2        0.144115        0.683522        0.850365        0.023873\n",
            "3        0.300852        0.846508        0.791929        0.543167\n",
            "\n",
            "Descriptive Statistics:\n",
            "       Random value 1  Random value 2  Random value 3  Random value 4\n",
            "count        4.000000        4.000000        4.000000        4.000000\n",
            "mean         0.562999        0.563719        0.755184        0.350790\n",
            "std          0.400587        0.304732        0.083487        0.263053\n",
            "min          0.144115        0.135243        0.659237        0.023873\n",
            "25%          0.261668        0.476013        0.704213        0.195528\n",
            "50%          0.576384        0.636563        0.755567        0.397956\n",
            "75%          0.877715        0.724268        0.806538        0.553218\n",
            "max          0.955112        0.846508        0.850365        0.583374\n",
            "\n",
            "Null Values:\n",
            "Random value 1    0\n",
            "Random value 2    0\n",
            "Random value 3    0\n",
            "Random value 4    0\n",
            "dtype: int64\n",
            "\n",
            "Data Types:\n",
            "Random value 1    float64\n",
            "Random value 2    float64\n",
            "Random value 3    float64\n",
            "Random value 4    float64\n",
            "dtype: object\n",
            "\n",
            "Random value 2 using location method:\n",
            "0    0.135243\n",
            "1    0.589603\n",
            "2    0.683522\n",
            "3    0.846508\n",
            "Name: Random value 2, dtype: float64\n",
            "\n",
            "Random value 3 using location method:\n",
            "0    0.659237\n",
            "1    0.719205\n",
            "2    0.850365\n",
            "3    0.791929\n",
            "Name: Random value 3, dtype: float64\n",
            "\n",
            "Random value 2 using index location method:\n",
            "0    0.135243\n",
            "1    0.589603\n",
            "2    0.683522\n",
            "3    0.846508\n",
            "Name: Random value 2, dtype: float64\n",
            "\n",
            "Random value 3 using index location method:\n",
            "0    0.659237\n",
            "1    0.719205\n",
            "2    0.850365\n",
            "3    0.791929\n",
            "Name: Random value 3, dtype: float64\n"
          ]
        }
      ]
    }
  ]
}